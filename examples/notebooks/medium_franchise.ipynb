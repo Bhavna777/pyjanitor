{
 "cells": [
  {
   "cell_type": "markdown",
   "metadata": {},
   "source": [
    "# Tidy Up Web-Scraped Media Franchise Data\n",
    "\n",
    "## Background\n",
    "This example combines functionalities of [pyjanitor](https://anaconda.org/conda-forge/pyjanitor) and [pandas-flavor](https://anaconda.org/conda-forge/pandas-flavor) to showcase an explicit--and thus reproducible--workflow enabled by dataframe __method chaining__.\n",
    "\n",
    "The data cleaning workflow largely follows the [R example](https://github.com/rfordatascience/tidytuesday/blob/master/data/2019/2019-07-02/revenue.R) from [the tidytuesday project](https://github.com/rfordatascience/tidytuesday). The raw data is scraped from [Wikipedia page](https://en.wikipedia.org/wiki/List_of_highest-grossing_media_franchises) titled \"*List of highest-grossing media franchises*\". The workflow is presented both in multi-step (section1) and in one-shot (section 2) fashions.\n",
    "\n",
    "More specifically, you will find several data-cleaning techniques that one may encounter frequently in web-scraping tasks; This includes:\n",
    "\n",
    "* String operations with regular expressions (with `pyjanitor`)\n",
    "* Data type changes (with `pyjanitor`)\n",
    "* Split strings in cells into seperate rows (with `pyjanitor` and `pandas`)\n",
    "* Split strings in cells into separate columns (with `pyjanitor`)\n",
    "* Filter dataframe values based on substring pattern (with `pyjanitor`)\n",
    "* Column value remapping with fuzzy substring matching (with `pyjanitor` + `pandas-flavor`)\n",
    "\n",
    "Data visualization is not included in this example. But if you are looking for inspirations, [here](https://www.reddit.com/r/dataisbeautiful/comments/c53540/highest_grossing_media_franchises_oc/) is a good example. \n",
    "\n",
    "---\n",
    "\n",
    "## Structural convention\n",
    "### 1. Annotation system in code comments\n",
    "This example includes both `pyjanitor` and `pandas-flavors` methods. As you step through this example, you will see the following annotation system in code comments that explains various methods' categories:\n",
    "\n",
    "* `[pyjanitor]` denotes `pyjanitor` methods\n",
    "* `[pandas-flavor]` denotes custom `pandas-flavor` methods\n",
    "* `[pyjanitor + pandas-flavor]` denotes `pandas-flavor` methods built on top of `pyjanitor` functions\n",
    "\n",
    "### 2. R counterpart snippets and python code in tandem\n",
    "The multi-step workflow is presented by alternating the original R snippets (from tidytuesday) and the corresponding python implementations."
   ]
  },
  {
   "cell_type": "markdown",
   "metadata": {},
   "source": [
    "---\n",
    "\n",
    "## Python implementation\n",
    "\n",
    "### Preparation"
   ]
  },
  {
   "cell_type": "code",
   "execution_count": 1,
   "metadata": {},
   "outputs": [],
   "source": [
    "# Import pyjanitor and pandas\n",
    "import janitor\n",
    "import pandas as pd\n",
    "import pandas_flavor as pf\n",
    "from typing import List"
   ]
  },
  {
   "cell_type": "code",
   "execution_count": 2,
   "metadata": {},
   "outputs": [],
   "source": [
    "# Supress user warnings when we try overwriting our custom pandas flavor functions\n",
    "import warnings\n",
    "warnings.filterwarnings('ignore')"
   ]
  },
  {
   "cell_type": "markdown",
   "metadata": {},
   "source": [
    "---\n",
    "\n",
    "### Section 1 Multi-Step\n",
    "#### Load data\n",
    "\n",
    "R snippet:\n",
    "```R\n",
    "url <- \"https://en.wikipedia.org/wiki/List_of_highest-grossing_media_franchises\"\n",
    "df <- url %>% \n",
    "  read_html() %>% \n",
    "  html_table(fill = TRUE) %>% \n",
    "  .[[2]]\n",
    "```"
   ]
  },
  {
   "cell_type": "code",
   "execution_count": 3,
   "metadata": {},
   "outputs": [
    {
     "output_type": "execute_result",
     "data": {
      "text/plain": "         Franchise Year of inception  Total revenue (USD)  \\\n0          Pokémon              1996  est. $95 billion[a]   \n1      Hello Kitty              1974     est. $86 billion   \n2  Winnie the Pooh              1924     est. $76 billion   \n\n                            Revenue breakdown (est.)         Original media  \\\n0  Licensed merchandise – $64.015 billion[b] Vide...             Video game   \n1  Merchandise sales – $85.832 billion[j] Manga m...  Cartoon character[38]   \n2  Retail sales – $76.19 billion[n] DVD & Blu-ray...               Book[59]   \n\n                    Creator(s)  \\\n0  Satoshi Tajiri Ken Sugimori   \n1  Yuko Shimizu Shintaro Tsuji   \n2    A. A. Milne E. H. Shepard   \n\n                                            Owner(s)  \n0  Nintendo (trademark) The Pokémon Company (Nint...  \n1                                             Sanrio  \n2                            The Walt Disney Company  ",
      "text/html": "<div>\n<style scoped>\n    .dataframe tbody tr th:only-of-type {\n        vertical-align: middle;\n    }\n\n    .dataframe tbody tr th {\n        vertical-align: top;\n    }\n\n    .dataframe thead th {\n        text-align: right;\n    }\n</style>\n<table border=\"1\" class=\"dataframe\">\n  <thead>\n    <tr style=\"text-align: right;\">\n      <th></th>\n      <th>Franchise</th>\n      <th>Year of inception</th>\n      <th>Total revenue (USD)</th>\n      <th>Revenue breakdown (est.)</th>\n      <th>Original media</th>\n      <th>Creator(s)</th>\n      <th>Owner(s)</th>\n    </tr>\n  </thead>\n  <tbody>\n    <tr>\n      <th>0</th>\n      <td>Pokémon</td>\n      <td>1996</td>\n      <td>est. $95 billion[a]</td>\n      <td>Licensed merchandise – $64.015 billion[b] Vide...</td>\n      <td>Video game</td>\n      <td>Satoshi Tajiri Ken Sugimori</td>\n      <td>Nintendo (trademark) The Pokémon Company (Nint...</td>\n    </tr>\n    <tr>\n      <th>1</th>\n      <td>Hello Kitty</td>\n      <td>1974</td>\n      <td>est. $86 billion</td>\n      <td>Merchandise sales – $85.832 billion[j] Manga m...</td>\n      <td>Cartoon character[38]</td>\n      <td>Yuko Shimizu Shintaro Tsuji</td>\n      <td>Sanrio</td>\n    </tr>\n    <tr>\n      <th>2</th>\n      <td>Winnie the Pooh</td>\n      <td>1924</td>\n      <td>est. $76 billion</td>\n      <td>Retail sales – $76.19 billion[n] DVD &amp; Blu-ray...</td>\n      <td>Book[59]</td>\n      <td>A. A. Milne E. H. Shepard</td>\n      <td>The Walt Disney Company</td>\n    </tr>\n  </tbody>\n</table>\n</div>"
     },
     "metadata": {},
     "execution_count": 3
    }
   ],
   "source": [
    "fileurl = 'https://en.wikipedia.org/wiki/List_of_highest-grossing_media_franchises'\n",
    "df_raw = pd.read_html(fileurl)[3]\n",
    "df_raw.head(3)"
   ]
  },
  {
   "cell_type": "markdown",
   "metadata": {},
   "source": [
    "#### Rename columns\n",
    "R snippet:\n",
    "```R\n",
    "clean_money <- df %>% \n",
    "  set_names(nm = c(\"franchise\", \"year_created\", \"total_revenue\", \"revenue_items\",\n",
    "                   \"original_media\", \"creators\", \"owners\"))\n",
    "```"
   ]
  },
  {
   "cell_type": "code",
   "execution_count": 4,
   "metadata": {},
   "outputs": [
    {
     "output_type": "execute_result",
     "data": {
      "text/plain": "         franchise year_created        total_revenue  \\\n0          Pokémon         1996  est. $95 billion[a]   \n1      Hello Kitty         1974     est. $86 billion   \n2  Winnie the Pooh         1924     est. $76 billion   \n\n                                       revenue_items         original_media  \\\n0  Licensed merchandise – $64.015 billion[b] Vide...             Video game   \n1  Merchandise sales – $85.832 billion[j] Manga m...  Cartoon character[38]   \n2  Retail sales – $76.19 billion[n] DVD & Blu-ray...               Book[59]   \n\n                      creators  \\\n0  Satoshi Tajiri Ken Sugimori   \n1  Yuko Shimizu Shintaro Tsuji   \n2    A. A. Milne E. H. Shepard   \n\n                                              owners  \n0  Nintendo (trademark) The Pokémon Company (Nint...  \n1                                             Sanrio  \n2                            The Walt Disney Company  ",
      "text/html": "<div>\n<style scoped>\n    .dataframe tbody tr th:only-of-type {\n        vertical-align: middle;\n    }\n\n    .dataframe tbody tr th {\n        vertical-align: top;\n    }\n\n    .dataframe thead th {\n        text-align: right;\n    }\n</style>\n<table border=\"1\" class=\"dataframe\">\n  <thead>\n    <tr style=\"text-align: right;\">\n      <th></th>\n      <th>franchise</th>\n      <th>year_created</th>\n      <th>total_revenue</th>\n      <th>revenue_items</th>\n      <th>original_media</th>\n      <th>creators</th>\n      <th>owners</th>\n    </tr>\n  </thead>\n  <tbody>\n    <tr>\n      <th>0</th>\n      <td>Pokémon</td>\n      <td>1996</td>\n      <td>est. $95 billion[a]</td>\n      <td>Licensed merchandise – $64.015 billion[b] Vide...</td>\n      <td>Video game</td>\n      <td>Satoshi Tajiri Ken Sugimori</td>\n      <td>Nintendo (trademark) The Pokémon Company (Nint...</td>\n    </tr>\n    <tr>\n      <th>1</th>\n      <td>Hello Kitty</td>\n      <td>1974</td>\n      <td>est. $86 billion</td>\n      <td>Merchandise sales – $85.832 billion[j] Manga m...</td>\n      <td>Cartoon character[38]</td>\n      <td>Yuko Shimizu Shintaro Tsuji</td>\n      <td>Sanrio</td>\n    </tr>\n    <tr>\n      <th>2</th>\n      <td>Winnie the Pooh</td>\n      <td>1924</td>\n      <td>est. $76 billion</td>\n      <td>Retail sales – $76.19 billion[n] DVD &amp; Blu-ray...</td>\n      <td>Book[59]</td>\n      <td>A. A. Milne E. H. Shepard</td>\n      <td>The Walt Disney Company</td>\n    </tr>\n  </tbody>\n</table>\n</div>"
     },
     "metadata": {},
     "execution_count": 4
    }
   ],
   "source": [
    "colnames = (\n",
    "    'franchise',\n",
    "    'year_created',\n",
    "    'total_revenue',\n",
    "    'revenue_items',\n",
    "    'original_media',\n",
    "    'creators',\n",
    "    'owners'\n",
    ")\n",
    "df_dirty = df_raw.rename(columns = dict(zip(df_raw.columns, colnames)))\n",
    "\n",
    "df_dirty.head(3)"
   ]
  },
  {
   "cell_type": "markdown",
   "metadata": {},
   "source": [
    "#### Clean up `total_revenue` column\n",
    "R snippet:\n",
    "```R\n",
    "clean_money <- df %>% ... %>%\n",
    "mutate(total_revenue = str_remove(total_revenue, \"est.\"),\n",
    "     total_revenue = str_trim(total_revenue),\n",
    "     total_revenue = str_remove(total_revenue, \"[$]\"),\n",
    "     total_revenue = word(total_revenue, 1, 1),\n",
    "     total_revenue = as.double(total_revenue))\n",
    "```"
   ]
  },
  {
   "cell_type": "code",
   "execution_count": 5,
   "metadata": {},
   "outputs": [
    {
     "output_type": "execute_result",
     "data": {
      "text/plain": "         franchise year_created  total_revenue  \\\n0          Pokémon         1996           95.0   \n1      Hello Kitty         1974           86.0   \n2  Winnie the Pooh         1924           76.0   \n\n                                       revenue_items         original_media  \\\n0  Licensed merchandise – $64.015 billion[b] Vide...             Video game   \n1  Merchandise sales – $85.832 billion[j] Manga m...  Cartoon character[38]   \n2  Retail sales – $76.19 billion[n] DVD & Blu-ray...               Book[59]   \n\n                      creators  \\\n0  Satoshi Tajiri Ken Sugimori   \n1  Yuko Shimizu Shintaro Tsuji   \n2    A. A. Milne E. H. Shepard   \n\n                                              owners  \n0  Nintendo (trademark) The Pokémon Company (Nint...  \n1                                             Sanrio  \n2                            The Walt Disney Company  ",
      "text/html": "<div>\n<style scoped>\n    .dataframe tbody tr th:only-of-type {\n        vertical-align: middle;\n    }\n\n    .dataframe tbody tr th {\n        vertical-align: top;\n    }\n\n    .dataframe thead th {\n        text-align: right;\n    }\n</style>\n<table border=\"1\" class=\"dataframe\">\n  <thead>\n    <tr style=\"text-align: right;\">\n      <th></th>\n      <th>franchise</th>\n      <th>year_created</th>\n      <th>total_revenue</th>\n      <th>revenue_items</th>\n      <th>original_media</th>\n      <th>creators</th>\n      <th>owners</th>\n    </tr>\n  </thead>\n  <tbody>\n    <tr>\n      <th>0</th>\n      <td>Pokémon</td>\n      <td>1996</td>\n      <td>95.0</td>\n      <td>Licensed merchandise – $64.015 billion[b] Vide...</td>\n      <td>Video game</td>\n      <td>Satoshi Tajiri Ken Sugimori</td>\n      <td>Nintendo (trademark) The Pokémon Company (Nint...</td>\n    </tr>\n    <tr>\n      <th>1</th>\n      <td>Hello Kitty</td>\n      <td>1974</td>\n      <td>86.0</td>\n      <td>Merchandise sales – $85.832 billion[j] Manga m...</td>\n      <td>Cartoon character[38]</td>\n      <td>Yuko Shimizu Shintaro Tsuji</td>\n      <td>Sanrio</td>\n    </tr>\n    <tr>\n      <th>2</th>\n      <td>Winnie the Pooh</td>\n      <td>1924</td>\n      <td>76.0</td>\n      <td>Retail sales – $76.19 billion[n] DVD &amp; Blu-ray...</td>\n      <td>Book[59]</td>\n      <td>A. A. Milne E. H. Shepard</td>\n      <td>The Walt Disney Company</td>\n    </tr>\n  </tbody>\n</table>\n</div>"
     },
     "metadata": {},
     "execution_count": 5
    }
   ],
   "source": [
    "column_name = 'total_revenue'\n",
    "df_clean_money = (\n",
    "    df_dirty\n",
    "    .process_text(column=column_name, string_function='replace', pat='(est.)|(\\$)', repl='') # [pyjanitor]\n",
    "    .process_text(column=column_name, string_function='strip') \n",
    "    .process_text(column=column_name, string_function='slice', stop=2)\n",
    "    .change_type(column_name, float)  # [pyjanitor]\n",
    ")\n",
    "df_clean_money.head(3)"
   ]
  },
  {
   "cell_type": "markdown",
   "metadata": {},
   "source": [
    "#### Split column `revenue_items` into `revenue_category` and `revenue`\n",
    "R snippet:\n",
    "```R\n",
    "clean_category <- clean_money %>% \n",
    "    separate_rows(revenue_items, sep = \"\\\\[\") %>% \n",
    "    filter(str_detect(revenue_items, \"illion\")) %>% \n",
    "    separate(revenue_items, into = c(\"revenue_category\", \"revenue\"), sep = \"[$]\") %>% \n",
    "    mutate(revenue_category = str_remove(revenue_category, \" – \"),\n",
    "         revenue_category = str_remove(revenue_category, regex(\".*\\\\]\")),\n",
    "         revenue_category = str_remove(revenue_category, \"\\n\")) \n",
    "```"
   ]
  },
  {
   "cell_type": "code",
   "execution_count": 6,
   "metadata": {},
   "outputs": [
    {
     "output_type": "execute_result",
     "data": {
      "text/plain": "  franchise year_created  total_revenue      revenue_category         revenue  \\\n0   Pokémon         1996           95.0  Licensed merchandise  64.015 billion   \n0   Pokémon         1996           95.0           Video games  19.533 billion   \n0   Pokémon         1996           95.0             Card game  11.491 billion   \n\n  original_media                     creators  \\\n0     Video game  Satoshi Tajiri Ken Sugimori   \n0     Video game  Satoshi Tajiri Ken Sugimori   \n0     Video game  Satoshi Tajiri Ken Sugimori   \n\n                                              owners  \n0  Nintendo (trademark) The Pokémon Company (Nint...  \n0  Nintendo (trademark) The Pokémon Company (Nint...  \n0  Nintendo (trademark) The Pokémon Company (Nint...  ",
      "text/html": "<div>\n<style scoped>\n    .dataframe tbody tr th:only-of-type {\n        vertical-align: middle;\n    }\n\n    .dataframe tbody tr th {\n        vertical-align: top;\n    }\n\n    .dataframe thead th {\n        text-align: right;\n    }\n</style>\n<table border=\"1\" class=\"dataframe\">\n  <thead>\n    <tr style=\"text-align: right;\">\n      <th></th>\n      <th>franchise</th>\n      <th>year_created</th>\n      <th>total_revenue</th>\n      <th>revenue_category</th>\n      <th>revenue</th>\n      <th>original_media</th>\n      <th>creators</th>\n      <th>owners</th>\n    </tr>\n  </thead>\n  <tbody>\n    <tr>\n      <th>0</th>\n      <td>Pokémon</td>\n      <td>1996</td>\n      <td>95.0</td>\n      <td>Licensed merchandise</td>\n      <td>64.015 billion</td>\n      <td>Video game</td>\n      <td>Satoshi Tajiri Ken Sugimori</td>\n      <td>Nintendo (trademark) The Pokémon Company (Nint...</td>\n    </tr>\n    <tr>\n      <th>0</th>\n      <td>Pokémon</td>\n      <td>1996</td>\n      <td>95.0</td>\n      <td>Video games</td>\n      <td>19.533 billion</td>\n      <td>Video game</td>\n      <td>Satoshi Tajiri Ken Sugimori</td>\n      <td>Nintendo (trademark) The Pokémon Company (Nint...</td>\n    </tr>\n    <tr>\n      <th>0</th>\n      <td>Pokémon</td>\n      <td>1996</td>\n      <td>95.0</td>\n      <td>Card game</td>\n      <td>11.491 billion</td>\n      <td>Video game</td>\n      <td>Satoshi Tajiri Ken Sugimori</td>\n      <td>Nintendo (trademark) The Pokémon Company (Nint...</td>\n    </tr>\n  </tbody>\n</table>\n</div>"
     },
     "metadata": {},
     "execution_count": 6
    }
   ],
   "source": [
    "column_name = 'revenue_items'\n",
    "df_clean_category = (\n",
    "    df_clean_money\n",
    "    .process_text(column=column_name, string_function='split',pat=\"\\[.+?\\]\")\n",
    "    .explode(column_name)\n",
    "    .filter_string(column_name, 'illion')  # [pyjanitor]\n",
    "    .deconcatenate_column(column_name, new_column_names=['revenue_category', 'revenue'], sep='\\$', preserve_position=True) # [pyjanitor]\n",
    "    .process_text(column='revenue_category', string_function='replace', pat='(\\s–\\s)|(.*\\])', repl=\"\")\n",
    "    .process_text(column='revenue_category', string_function='strip')\n",
    "\n",
    ")\n",
    "\n",
    "df_clean_category.head(3)"
   ]
  },
  {
   "cell_type": "markdown",
   "metadata": {},
   "source": [
    "#### Clean up `revenue_category` column\n",
    "R snippet:\n",
    "```R\n",
    "clean_df <- clean_category %>% \n",
    "  mutate(revenue_category = case_when(\n",
    "    str_detect(str_to_lower(revenue_category), \"box office\") ~ \"Box Office\",\n",
    "    str_detect(str_to_lower(revenue_category), \"dvd|blu|vhs|home video|video rentals|video sales|streaming|home entertainment\") ~ \"Home Video/Entertainment\",\n",
    "    str_detect(str_to_lower(revenue_category), \"video game|computer game|mobile game|console|game|pachinko|pet|card\") ~ \"Video Games/Games\",\n",
    "    str_detect(str_to_lower(revenue_category), \"comic|manga\") ~ \"Comic or Manga\",\n",
    "    str_detect(str_to_lower(revenue_category), \"music|soundtrack\") ~ \"Music\",\n",
    "    str_detect(str_to_lower(revenue_category), \"tv\") ~ \"TV\",\n",
    "    str_detect(str_to_lower(revenue_category), \"merchandise|licens|mall|stage|retail\") ~ \"Merchandise, Licensing & Retail\",\n",
    "    TRUE ~ revenue_category))\n",
    "```"
   ]
  },
  {
   "cell_type": "code",
   "execution_count": 7,
   "metadata": {},
   "outputs": [],
   "source": [
    "# pandas-flavor helper functions\n",
    "\n",
    "\n",
    "# [pyjanitor + pandas-flavor]\n",
    "@pf.register_dataframe_method\n",
    "def fuzzy_match_replace(df, column_name: str, mapper: dict = None):\n",
    "    \"\"\"Value remapping for specific column with fuzzy matching and replacement\n",
    "    of strings\n",
    "\n",
    "    Parameters\n",
    "    -----------\n",
    "    df: pd.Dataframe\n",
    "        Input dataframe to be modified\n",
    "    column_name: str\n",
    "        Name of the column to be operated on\n",
    "    mapper: dict, default to None\n",
    "        {oldstr_0: newstr_0, oldstr_1: newstr_1, ..., oldstr_n: newstr_n}\n",
    "\n",
    "    Returns\n",
    "    --------\n",
    "    df: pd.Dataframe\n",
    "\n",
    "    \"\"\"\n",
    "    for k, v in mapper.items():\n",
    "        condition = df[column_name].str.contains(k)\n",
    "        # [pyjanitor] update_where: update value when condition is True\n",
    "        df = df.update_where(condition, column_name, v)\n",
    "    return df"
   ]
  },
  {
   "cell_type": "code",
   "execution_count": 8,
   "metadata": {},
   "outputs": [
    {
     "output_type": "execute_result",
     "data": {
      "text/plain": "  franchise year_created  total_revenue                 revenue_category  \\\n0   Pokémon         1996           95.0  Merchandise, Licensing & Retail   \n1   Pokémon         1996           95.0                Video Games/Games   \n2   Pokémon         1996           95.0                Video Games/Games   \n\n          revenue original_media                     creators  \\\n0  64.015 billion     Video game  Satoshi Tajiri Ken Sugimori   \n1  19.533 billion     Video game  Satoshi Tajiri Ken Sugimori   \n2  11.491 billion     Video game  Satoshi Tajiri Ken Sugimori   \n\n                                              owners  \n0  Nintendo (trademark) The Pokémon Company (Nint...  \n1  Nintendo (trademark) The Pokémon Company (Nint...  \n2  Nintendo (trademark) The Pokémon Company (Nint...  ",
      "text/html": "<div>\n<style scoped>\n    .dataframe tbody tr th:only-of-type {\n        vertical-align: middle;\n    }\n\n    .dataframe tbody tr th {\n        vertical-align: top;\n    }\n\n    .dataframe thead th {\n        text-align: right;\n    }\n</style>\n<table border=\"1\" class=\"dataframe\">\n  <thead>\n    <tr style=\"text-align: right;\">\n      <th></th>\n      <th>franchise</th>\n      <th>year_created</th>\n      <th>total_revenue</th>\n      <th>revenue_category</th>\n      <th>revenue</th>\n      <th>original_media</th>\n      <th>creators</th>\n      <th>owners</th>\n    </tr>\n  </thead>\n  <tbody>\n    <tr>\n      <th>0</th>\n      <td>Pokémon</td>\n      <td>1996</td>\n      <td>95.0</td>\n      <td>Merchandise, Licensing &amp; Retail</td>\n      <td>64.015 billion</td>\n      <td>Video game</td>\n      <td>Satoshi Tajiri Ken Sugimori</td>\n      <td>Nintendo (trademark) The Pokémon Company (Nint...</td>\n    </tr>\n    <tr>\n      <th>1</th>\n      <td>Pokémon</td>\n      <td>1996</td>\n      <td>95.0</td>\n      <td>Video Games/Games</td>\n      <td>19.533 billion</td>\n      <td>Video game</td>\n      <td>Satoshi Tajiri Ken Sugimori</td>\n      <td>Nintendo (trademark) The Pokémon Company (Nint...</td>\n    </tr>\n    <tr>\n      <th>2</th>\n      <td>Pokémon</td>\n      <td>1996</td>\n      <td>95.0</td>\n      <td>Video Games/Games</td>\n      <td>11.491 billion</td>\n      <td>Video game</td>\n      <td>Satoshi Tajiri Ken Sugimori</td>\n      <td>Nintendo (trademark) The Pokémon Company (Nint...</td>\n    </tr>\n  </tbody>\n</table>\n</div>"
     },
     "metadata": {},
     "execution_count": 8
    }
   ],
   "source": [
    "# Value mapper `revenue_category`\n",
    "value_mapper = {\n",
    "    'box office': 'Box Office',\n",
    "    'dvd|blu|vhs|home video|video rentals|video sales|streaming|home entertainment': 'Home Video/Entertainment',\n",
    "    'video game|computer game|mobile game|console|game|pachinko|pet|card': 'Video Games/Games',\n",
    "    'comic|manga': 'Comic or Manga',\n",
    "    'music|soundtrac': 'Music',\n",
    "    'tv': 'TV',\n",
    "    'merchandise|licens|mall|stage|retail': 'Merchandise, Licensing & Retail',\n",
    "}\n",
    "\n",
    "column_name = 'revenue_category'\n",
    "df_clean_category = (\n",
    "    df_clean_category\n",
    "    .process_text(column=column_name, string_function='lower')  \n",
    "    .reset_index(drop=True)\n",
    "    .fuzzy_match_replace(column_name, mapper=value_mapper)  # [pyjanitor + pandas_flavor]\n",
    ")\n",
    "df_clean_category.head(3)"
   ]
  },
  {
   "cell_type": "markdown",
   "metadata": {},
   "source": [
    "#### Clean up `revenue` column\n",
    "R snippet:\n",
    "```R\n",
    "%>% \n",
    "mutate(revenue = str_remove(revenue, \"illion\"),\n",
    "     revenue = str_trim(revenue),\n",
    "     revenue = str_remove(revenue, \" \"),\n",
    "     revenue = case_when(str_detect(revenue, \"m\") ~ paste0(str_extract(revenue, \"[:digit:]+\"), \"e-3\"),\n",
    "                         str_detect(revenue, \"b\") ~ str_extract(revenue, \"[:digit:]+\"),\n",
    "                         TRUE ~ NA_character_),\n",
    "     revenue = format(revenue, scientific = FALSE),\n",
    "     revenue = parse_number(revenue)) %>%\n",
    "mutate(original_media = str_remove(original_media, \"\\\\[.+\"))\n",
    "```"
   ]
  },
  {
   "cell_type": "code",
   "execution_count": 9,
   "metadata": {},
   "outputs": [
    {
     "output_type": "execute_result",
     "data": {
      "text/plain": "  franchise  year_created  total_revenue                 revenue_category  \\\n0   Pokémon          1996           95.0  Merchandise, Licensing & Retail   \n1   Pokémon          1996           95.0                Video Games/Games   \n2   Pokémon          1996           95.0                Video Games/Games   \n\n   revenue original_media                     creators  \\\n0   64.015     Video game  Satoshi Tajiri Ken Sugimori   \n1   19.533     Video game  Satoshi Tajiri Ken Sugimori   \n2   11.491     Video game  Satoshi Tajiri Ken Sugimori   \n\n                                              owners  \n0  Nintendo (trademark) The Pokémon Company (Nint...  \n1  Nintendo (trademark) The Pokémon Company (Nint...  \n2  Nintendo (trademark) The Pokémon Company (Nint...  ",
      "text/html": "<div>\n<style scoped>\n    .dataframe tbody tr th:only-of-type {\n        vertical-align: middle;\n    }\n\n    .dataframe tbody tr th {\n        vertical-align: top;\n    }\n\n    .dataframe thead th {\n        text-align: right;\n    }\n</style>\n<table border=\"1\" class=\"dataframe\">\n  <thead>\n    <tr style=\"text-align: right;\">\n      <th></th>\n      <th>franchise</th>\n      <th>year_created</th>\n      <th>total_revenue</th>\n      <th>revenue_category</th>\n      <th>revenue</th>\n      <th>original_media</th>\n      <th>creators</th>\n      <th>owners</th>\n    </tr>\n  </thead>\n  <tbody>\n    <tr>\n      <th>0</th>\n      <td>Pokémon</td>\n      <td>1996</td>\n      <td>95.0</td>\n      <td>Merchandise, Licensing &amp; Retail</td>\n      <td>64.015</td>\n      <td>Video game</td>\n      <td>Satoshi Tajiri Ken Sugimori</td>\n      <td>Nintendo (trademark) The Pokémon Company (Nint...</td>\n    </tr>\n    <tr>\n      <th>1</th>\n      <td>Pokémon</td>\n      <td>1996</td>\n      <td>95.0</td>\n      <td>Video Games/Games</td>\n      <td>19.533</td>\n      <td>Video game</td>\n      <td>Satoshi Tajiri Ken Sugimori</td>\n      <td>Nintendo (trademark) The Pokémon Company (Nint...</td>\n    </tr>\n    <tr>\n      <th>2</th>\n      <td>Pokémon</td>\n      <td>1996</td>\n      <td>95.0</td>\n      <td>Video Games/Games</td>\n      <td>11.491</td>\n      <td>Video game</td>\n      <td>Satoshi Tajiri Ken Sugimori</td>\n      <td>Nintendo (trademark) The Pokémon Company (Nint...</td>\n    </tr>\n  </tbody>\n</table>\n</div>"
     },
     "metadata": {},
     "execution_count": 9
    }
   ],
   "source": [
    "# clean up revenue values\n",
    "column_name = 'revenue'\n",
    "df_clean = (\n",
    "    df_clean_category.copy()\n",
    "    .process_text(column=column_name, string_function='replace', pat='illion', repl='')\n",
    "    .process_text(column=column_name, string_function='strip')\n",
    "    .process_text(column=column_name, string_function='replace', pat=' ', repl='')\n",
    "    .process_text(column=column_name, string_function='replace', pat='\\s*b', repl='')\n",
    "    .process_text(column=column_name, string_function='replace', pat='\\s*m', repl='e-3')\n",
    "    .process_text(column='original_media', string_function='replace', pat='\\[.+', repl='')\n",
    "    .process_text(column='year_created', string_function='slice', stop=4)\n",
    "    .transform(pd.to_numeric, errors='ignore')\n",
    ")\n",
    "df_clean.head(3)"
   ]
  },
  {
   "cell_type": "markdown",
   "metadata": {},
   "source": [
    "---\n",
    "\n",
    "### Section 2 One-Shot"
   ]
  },
  {
   "cell_type": "code",
   "execution_count": 10,
   "metadata": {},
   "outputs": [],
   "source": [
    "df_clean = (\n",
    "    pd.read_html(fileurl)[3]\n",
    "    .rename(columns = dict(zip(df_raw.columns, colnames)))\n",
    "    .process_text(column='total_revenue', string_function='replace', pat='(est.)|(\\$)', repl='')\n",
    "    .process_text(column='total_revenue', string_function='strip')\n",
    "    .process_text(column='total_revenue', string_function='slice', stop=2)\n",
    "    .change_type('total_revenue', float)  # [pyjanitor]\n",
    "    .process_text(column='revenue_items', string_function='split',pat=\"\\[.+?\\]\")\n",
    "    .explode('revenue_items')\n",
    "    .filter_string('revenue_items', 'illion')  # [pyjanitor]\n",
    "    .deconcatenate_column('revenue_items', new_column_names=['revenue_category', 'revenue'], sep='\\$', preserve_position=True)\n",
    "    .process_text(column='revenue_category', string_function='replace', pat='(\\s–\\s)|(.*\\])', repl=\"\")\n",
    "    .process_text(column='revenue_category', string_function='strip')\n",
    "    .process_text(column='revenue_category', string_function='lower')  # [pyjanitor] convert to lower case\n",
    "    .reset_index(drop=True)\n",
    "    .fuzzy_match_replace('revenue_category', mapper=value_mapper)  # [pyjanitor + pandas_flavor]\n",
    "    .process_text(column='revenue', string_function='replace', pat='illion', repl='')\n",
    "    .process_text(column='revenue', string_function='strip')\n",
    "    .process_text(column='revenue', string_function='replace', pat=' ', repl='')\n",
    "    .process_text(column='revenue', string_function='replace', pat='\\s*b', repl='')\n",
    "    .process_text(column='revenue', string_function='replace', pat='\\s*m', repl='e-3')\n",
    "    .process_text(column='original_media', string_function='replace', pat='\\[.+', repl='')\n",
    "    .transform(pd.to_numeric, errors='ignore')\n",
    ")"
   ]
  },
  {
   "cell_type": "markdown",
   "metadata": {},
   "source": [
    "---\n",
    "\n",
    "### Final aggregation and join\n",
    "R snippet:\n",
    "```R\n",
    " sum_df <- clean_df %>%\n",
    "  group_by(franchise, revenue_category) %>% \n",
    "  summarize(revenue = sum(revenue))\n",
    "\n",
    "metadata_df <- clean_df %>% \n",
    "  select(franchise:revenue_category, original_media:owners, -total_revenue)\n",
    "\n",
    "final_df <- left_join(sum_df, metadata_df, \n",
    "                      by = c(\"franchise\", \"revenue_category\")) %>% \n",
    "  distinct(.keep_all = TRUE)\n",
    "\n",
    "final_df\n",
    "```"
   ]
  },
  {
   "cell_type": "code",
   "execution_count": 11,
   "metadata": {},
   "outputs": [
    {
     "output_type": "execute_result",
     "data": {
      "text/plain": "  franchise                 revenue_category  total_revenue  revenue\n0  Anpanman                       Box Office           60.0    0.067\n1  Anpanman  Merchandise, Licensing & Retail           60.0   60.375\n2  Anpanman                           museum           60.0    0.025",
      "text/html": "<div>\n<style scoped>\n    .dataframe tbody tr th:only-of-type {\n        vertical-align: middle;\n    }\n\n    .dataframe tbody tr th {\n        vertical-align: top;\n    }\n\n    .dataframe thead th {\n        text-align: right;\n    }\n</style>\n<table border=\"1\" class=\"dataframe\">\n  <thead>\n    <tr style=\"text-align: right;\">\n      <th></th>\n      <th>franchise</th>\n      <th>revenue_category</th>\n      <th>total_revenue</th>\n      <th>revenue</th>\n    </tr>\n  </thead>\n  <tbody>\n    <tr>\n      <th>0</th>\n      <td>Anpanman</td>\n      <td>Box Office</td>\n      <td>60.0</td>\n      <td>0.067</td>\n    </tr>\n    <tr>\n      <th>1</th>\n      <td>Anpanman</td>\n      <td>Merchandise, Licensing &amp; Retail</td>\n      <td>60.0</td>\n      <td>60.375</td>\n    </tr>\n    <tr>\n      <th>2</th>\n      <td>Anpanman</td>\n      <td>museum</td>\n      <td>60.0</td>\n      <td>0.025</td>\n    </tr>\n  </tbody>\n</table>\n</div>"
     },
     "metadata": {},
     "execution_count": 11
    }
   ],
   "source": [
    "df_sum = (\n",
    "    df_clean.groupby(['franchise', 'revenue_category'])\n",
    "    .sum()\n",
    "    .reset_index()\n",
    ")\n",
    "df_sum.head(3)"
   ]
  },
  {
   "cell_type": "code",
   "execution_count": 12,
   "metadata": {},
   "outputs": [
    {
     "output_type": "execute_result",
     "data": {
      "text/plain": "  franchise                 revenue_category original_media  \\\n0   Pokémon  Merchandise, Licensing & Retail     Video game   \n1   Pokémon                Video Games/Games     Video game   \n2   Pokémon                Video Games/Games     Video game   \n\n                      creators  \n0  Satoshi Tajiri Ken Sugimori  \n1  Satoshi Tajiri Ken Sugimori  \n2  Satoshi Tajiri Ken Sugimori  ",
      "text/html": "<div>\n<style scoped>\n    .dataframe tbody tr th:only-of-type {\n        vertical-align: middle;\n    }\n\n    .dataframe tbody tr th {\n        vertical-align: top;\n    }\n\n    .dataframe thead th {\n        text-align: right;\n    }\n</style>\n<table border=\"1\" class=\"dataframe\">\n  <thead>\n    <tr style=\"text-align: right;\">\n      <th></th>\n      <th>franchise</th>\n      <th>revenue_category</th>\n      <th>original_media</th>\n      <th>creators</th>\n    </tr>\n  </thead>\n  <tbody>\n    <tr>\n      <th>0</th>\n      <td>Pokémon</td>\n      <td>Merchandise, Licensing &amp; Retail</td>\n      <td>Video game</td>\n      <td>Satoshi Tajiri Ken Sugimori</td>\n    </tr>\n    <tr>\n      <th>1</th>\n      <td>Pokémon</td>\n      <td>Video Games/Games</td>\n      <td>Video game</td>\n      <td>Satoshi Tajiri Ken Sugimori</td>\n    </tr>\n    <tr>\n      <th>2</th>\n      <td>Pokémon</td>\n      <td>Video Games/Games</td>\n      <td>Video game</td>\n      <td>Satoshi Tajiri Ken Sugimori</td>\n    </tr>\n  </tbody>\n</table>\n</div>"
     },
     "metadata": {},
     "execution_count": 12
    }
   ],
   "source": [
    "df_metadata = df_clean[\n",
    "    ['franchise', 'revenue_category', 'original_media', 'creators']\n",
    "]\n",
    "df_metadata.head(3)"
   ]
  },
  {
   "cell_type": "markdown",
   "metadata": {},
   "source": [
    "---\n",
    "### Final Dataframe"
   ]
  },
  {
   "cell_type": "code",
   "execution_count": 13,
   "metadata": {},
   "outputs": [
    {
     "output_type": "execute_result",
     "data": {
      "text/plain": "  franchise                 revenue_category  total_revenue  revenue  \\\n0  Anpanman                       Box Office           60.0    0.067   \n1  Anpanman  Merchandise, Licensing & Retail           60.0   60.375   \n2  Anpanman                           museum           60.0    0.025   \n\n  original_media        creators  \n0          Manga  Takashi Yanase  \n1          Manga  Takashi Yanase  \n2          Manga  Takashi Yanase  ",
      "text/html": "<div>\n<style scoped>\n    .dataframe tbody tr th:only-of-type {\n        vertical-align: middle;\n    }\n\n    .dataframe tbody tr th {\n        vertical-align: top;\n    }\n\n    .dataframe thead th {\n        text-align: right;\n    }\n</style>\n<table border=\"1\" class=\"dataframe\">\n  <thead>\n    <tr style=\"text-align: right;\">\n      <th></th>\n      <th>franchise</th>\n      <th>revenue_category</th>\n      <th>total_revenue</th>\n      <th>revenue</th>\n      <th>original_media</th>\n      <th>creators</th>\n    </tr>\n  </thead>\n  <tbody>\n    <tr>\n      <th>0</th>\n      <td>Anpanman</td>\n      <td>Box Office</td>\n      <td>60.0</td>\n      <td>0.067</td>\n      <td>Manga</td>\n      <td>Takashi Yanase</td>\n    </tr>\n    <tr>\n      <th>1</th>\n      <td>Anpanman</td>\n      <td>Merchandise, Licensing &amp; Retail</td>\n      <td>60.0</td>\n      <td>60.375</td>\n      <td>Manga</td>\n      <td>Takashi Yanase</td>\n    </tr>\n    <tr>\n      <th>2</th>\n      <td>Anpanman</td>\n      <td>museum</td>\n      <td>60.0</td>\n      <td>0.025</td>\n      <td>Manga</td>\n      <td>Takashi Yanase</td>\n    </tr>\n  </tbody>\n</table>\n</div>"
     },
     "metadata": {},
     "execution_count": 13
    }
   ],
   "source": [
    "# Generate final dataframe\n",
    "df_final = (\n",
    "    pd.merge(\n",
    "        df_sum, df_metadata, how='left', on=['franchise', 'revenue_category']\n",
    "    )\n",
    "    .drop_duplicates(keep='first')\n",
    "    .reset_index(drop=True)\n",
    ")\n",
    "df_final.head(3)"
   ]
  }
 ],
 "metadata": {
  "kernelspec": {
   "display_name": "Python 3",
   "language": "python",
   "name": "python3"
  },
  "language_info": {
   "codemirror_mode": {
    "name": "ipython",
    "version": 3
   },
   "file_extension": ".py",
   "mimetype": "text/x-python",
   "name": "python",
   "nbconvert_exporter": "python",
   "pygments_lexer": "ipython3",
   "version": "3.7.7-final"
  },
  "toc": {
   "base_numbering": 1,
   "nav_menu": {},
   "number_sections": true,
   "sideBar": true,
   "skip_h1_title": false,
   "title_cell": "Table of Contents",
   "title_sidebar": "Contents",
   "toc_cell": false,
   "toc_position": {},
   "toc_section_display": true,
   "toc_window_display": false
  }
 },
 "nbformat": 4,
 "nbformat_minor": 4
}